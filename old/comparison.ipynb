{
 "cells": [
  {
   "cell_type": "code",
   "execution_count": 1,
   "id": "a3e882eb",
   "metadata": {},
   "outputs": [
    {
     "name": "stderr",
     "output_type": "stream",
     "text": [
      "2025-07-26 20:32:07.062429: I tensorflow/core/util/port.cc:153] oneDNN custom operations are on. You may see slightly different numerical results due to floating-point round-off errors from different computation orders. To turn them off, set the environment variable `TF_ENABLE_ONEDNN_OPTS=0`.\n",
      "2025-07-26 20:32:07.080477: I external/local_xla/xla/tsl/cuda/cudart_stub.cc:32] Could not find cuda drivers on your machine, GPU will not be used.\n",
      "2025-07-26 20:32:07.185885: I external/local_xla/xla/tsl/cuda/cudart_stub.cc:32] Could not find cuda drivers on your machine, GPU will not be used.\n",
      "2025-07-26 20:32:07.252291: E external/local_xla/xla/stream_executor/cuda/cuda_fft.cc:467] Unable to register cuFFT factory: Attempting to register factory for plugin cuFFT when one has already been registered\n",
      "WARNING: All log messages before absl::InitializeLog() is called are written to STDERR\n",
      "E0000 00:00:1753542127.314950   65706 cuda_dnn.cc:8579] Unable to register cuDNN factory: Attempting to register factory for plugin cuDNN when one has already been registered\n",
      "E0000 00:00:1753542127.331297   65706 cuda_blas.cc:1407] Unable to register cuBLAS factory: Attempting to register factory for plugin cuBLAS when one has already been registered\n",
      "W0000 00:00:1753542127.576648   65706 computation_placer.cc:177] computation placer already registered. Please check linkage and avoid linking the same target more than once.\n",
      "W0000 00:00:1753542127.576672   65706 computation_placer.cc:177] computation placer already registered. Please check linkage and avoid linking the same target more than once.\n",
      "W0000 00:00:1753542127.576674   65706 computation_placer.cc:177] computation placer already registered. Please check linkage and avoid linking the same target more than once.\n",
      "W0000 00:00:1753542127.576675   65706 computation_placer.cc:177] computation placer already registered. Please check linkage and avoid linking the same target more than once.\n",
      "2025-07-26 20:32:07.597735: I tensorflow/core/platform/cpu_feature_guard.cc:210] This TensorFlow binary is optimized to use available CPU instructions in performance-critical operations.\n",
      "To enable the following instructions: AVX2 AVX_VNNI FMA, in other operations, rebuild TensorFlow with the appropriate compiler flags.\n"
     ]
    },
    {
     "name": "stdout",
     "output_type": "stream",
     "text": [
      "\n",
      "🔴 _.dracarys.x_ 🔴\n"
     ]
    },
    {
     "name": "stderr",
     "output_type": "stream",
     "text": [
      "2025-07-26 20:32:12.346757: E external/local_xla/xla/stream_executor/cuda/cuda_platform.cc:51] failed call to cuInit: INTERNAL: CUDA error: Failed call to cuInit: UNKNOWN ERROR (303)\n",
      "Action: race: 100%|██████████| 4/4 [00:03<00:00,  1.07it/s]   \n",
      "Action: race: 100%|██████████| 4/4 [00:00<00:00,  7.41it/s]   \n",
      "Action: race: 100%|██████████| 4/4 [00:00<00:00,  6.92it/s]   \n"
     ]
    },
    {
     "name": "stdout",
     "output_type": "stream",
     "text": [
      "\n",
      "🔴 _.harshitha_.gowda._ 🔴\n"
     ]
    },
    {
     "name": "stderr",
     "output_type": "stream",
     "text": [
      "Action: race: 100%|██████████| 4/4 [00:00<00:00,  6.67it/s]   \n"
     ]
    },
    {
     "name": "stdout",
     "output_type": "stream",
     "text": [
      "DeepFace (mtcnn) error\n"
     ]
    },
    {
     "name": "stderr",
     "output_type": "stream",
     "text": [
      "Action: race: 100%|██████████| 4/4 [00:00<00:00,  7.13it/s]   \n"
     ]
    },
    {
     "name": "stdout",
     "output_type": "stream",
     "text": [
      "\n",
      "🔴 _.heartwants._ 🔴\n",
      "DeepFace (retinaface) error\n",
      "DeepFace (mtcnn) error\n",
      "DeepFace (yolov8) error\n",
      "\n",
      "🔴 _.hett 🔴\n"
     ]
    },
    {
     "name": "stderr",
     "output_type": "stream",
     "text": [
      "2025-07-26 20:32:33.855281: I tensorflow/core/framework/local_rendezvous.cc:407] Local rendezvous is aborting with status: INVALID_ARGUMENT: Must provide as many biases as the last dimension of the input tensor: [32] vs. [0,48,48,3]\n",
      "Action: race: 100%|██████████| 4/4 [00:00<00:00,  6.77it/s]   \n",
      "Action: race: 100%|██████████| 4/4 [00:00<00:00,  6.85it/s]   \n",
      "Action: race: 100%|██████████| 4/4 [00:00<00:00,  6.05it/s]   \n"
     ]
    },
    {
     "name": "stdout",
     "output_type": "stream",
     "text": [
      "\n",
      "🔴 _.keshavi._ 🔴\n"
     ]
    },
    {
     "name": "stderr",
     "output_type": "stream",
     "text": [
      "Action: race: 100%|██████████| 4/4 [00:00<00:00,  6.38it/s]   \n",
      "Action: race: 100%|██████████| 4/4 [00:00<00:00,  6.70it/s]   \n",
      "Action: race: 100%|██████████| 4/4 [00:00<00:00,  6.93it/s]   \n"
     ]
    },
    {
     "name": "stdout",
     "output_type": "stream",
     "text": [
      "\n",
      "🔴 _.kirranchauhan._ 🔴\n"
     ]
    },
    {
     "name": "stderr",
     "output_type": "stream",
     "text": [
      "Action: race: 100%|██████████| 4/4 [00:00<00:00,  6.48it/s]   \n",
      "Action: race: 100%|██████████| 4/4 [00:00<00:00,  6.98it/s]   \n",
      "Action: race: 100%|██████████| 4/4 [00:00<00:00,  6.59it/s]   \n"
     ]
    },
    {
     "name": "stdout",
     "output_type": "stream",
     "text": [
      "\n",
      "🔴 _.life_in_pastel._ 🔴\n",
      "DeepFace (retinaface) error\n",
      "DeepFace (mtcnn) error\n",
      "DeepFace (yolov8) error\n",
      "\n",
      "🔴 _.manisha_kulal 🔴\n",
      "DeepFace (retinaface) error\n",
      "DeepFace (mtcnn) error\n",
      "DeepFace (yolov8) error\n",
      "\n",
      "🔴 _.mile.y 🔴\n"
     ]
    },
    {
     "name": "stderr",
     "output_type": "stream",
     "text": [
      "Action: race: 100%|██████████| 4/4 [00:00<00:00,  6.21it/s]   \n",
      "Action: race: 100%|██████████| 4/4 [00:00<00:00,  6.98it/s]   \n",
      "Action: race: 100%|██████████| 4/4 [00:00<00:00,  6.25it/s]   \n"
     ]
    },
    {
     "name": "stdout",
     "output_type": "stream",
     "text": [
      "\n",
      "🔴 _.minney__06 🔴\n"
     ]
    },
    {
     "name": "stderr",
     "output_type": "stream",
     "text": [
      "Action: race: 100%|██████████| 4/4 [00:00<00:00,  6.60it/s]   \n"
     ]
    },
    {
     "name": "stdout",
     "output_type": "stream",
     "text": [
      "DeepFace (mtcnn) error\n"
     ]
    },
    {
     "name": "stderr",
     "output_type": "stream",
     "text": [
      "Action: race: 100%|██████████| 4/4 [00:00<00:00,  6.83it/s]   \n"
     ]
    },
    {
     "name": "stdout",
     "output_type": "stream",
     "text": [
      "\n",
      "🔴 _.miss_komal_.1026 🔴\n"
     ]
    },
    {
     "name": "stderr",
     "output_type": "stream",
     "text": [
      "Action: race: 100%|██████████| 4/4 [00:00<00:00,  6.93it/s]   \n",
      "Action: race: 100%|██████████| 4/4 [00:00<00:00,  7.43it/s]   \n",
      "Action: race: 100%|██████████| 4/4 [00:00<00:00,  6.96it/s]   \n",
      "Action: race: 100%|██████████| 4/4 [00:00<00:00,  7.14it/s]   \n"
     ]
    },
    {
     "name": "stdout",
     "output_type": "stream",
     "text": [
      "\n",
      "🔴 _.nickyy75_ 🔴\n"
     ]
    },
    {
     "name": "stderr",
     "output_type": "stream",
     "text": [
      "Action: race: 100%|██████████| 4/4 [00:00<00:00,  7.14it/s]   \n",
      "Action: race: 100%|██████████| 4/4 [00:00<00:00,  7.10it/s]   \n",
      "Action: race: 100%|██████████| 4/4 [00:00<00:00,  7.22it/s]   \n",
      "Action: race: 100%|██████████| 4/4 [00:00<00:00,  6.95it/s]   \n",
      "Action: race: 100%|██████████| 4/4 [00:00<00:00,  7.13it/s]   \n",
      "Action: race: 100%|██████████| 4/4 [00:00<00:00,  6.62it/s]   \n",
      "Action: race: 100%|██████████| 4/4 [00:00<00:00,  6.75it/s]   \n",
      "Action: race: 100%|██████████| 4/4 [00:00<00:00,  6.88it/s]   \n",
      "Action: race: 100%|██████████| 4/4 [00:00<00:00,  6.71it/s]   \n",
      "Action: race: 100%|██████████| 4/4 [00:00<00:00,  6.83it/s]   \n",
      "Action: race: 100%|██████████| 4/4 [00:00<00:00,  6.74it/s]   \n"
     ]
    },
    {
     "name": "stdout",
     "output_type": "stream",
     "text": [
      "\n",
      "🔴 _.nutrihealth 🔴\n"
     ]
    },
    {
     "name": "stderr",
     "output_type": "stream",
     "text": [
      "Action: race: 100%|██████████| 4/4 [00:00<00:00,  6.76it/s]   \n",
      "Action: race: 100%|██████████| 4/4 [00:00<00:00,  7.11it/s]   \n",
      "Action: race: 100%|██████████| 4/4 [00:00<00:00,  7.28it/s]   \n"
     ]
    },
    {
     "name": "stdout",
     "output_type": "stream",
     "text": [
      "\n",
      "🔴 _.palakvasudeva._ 🔴\n"
     ]
    },
    {
     "name": "stderr",
     "output_type": "stream",
     "text": [
      "Action: race: 100%|██████████| 4/4 [00:00<00:00,  6.40it/s]   \n",
      "Action: race: 100%|██████████| 4/4 [00:00<00:00,  6.66it/s]   \n",
      "Action: race: 100%|██████████| 4/4 [00:00<00:00,  6.83it/s]   \n"
     ]
    },
    {
     "name": "stdout",
     "output_type": "stream",
     "text": [
      "\n",
      "🔴 _.phenomenail 🔴\n"
     ]
    },
    {
     "name": "stderr",
     "output_type": "stream",
     "text": [
      "Action: race: 100%|██████████| 4/4 [00:00<00:00,  6.60it/s]   \n",
      "Action: race: 100%|██████████| 4/4 [00:00<00:00,  6.96it/s]   \n",
      "Action: race: 100%|██████████| 4/4 [00:00<00:00,  6.95it/s]   \n"
     ]
    },
    {
     "name": "stdout",
     "output_type": "stream",
     "text": [
      "\n",
      "🔴 _.poojjja._ 🔴\n"
     ]
    },
    {
     "name": "stderr",
     "output_type": "stream",
     "text": [
      "Action: race: 100%|██████████| 4/4 [00:00<00:00,  6.78it/s]   \n",
      "Action: race: 100%|██████████| 4/4 [00:00<00:00,  6.93it/s]   \n",
      "Action: race: 100%|██████████| 4/4 [00:00<00:00,  7.19it/s]   \n"
     ]
    },
    {
     "name": "stdout",
     "output_type": "stream",
     "text": [
      "\n",
      "🔴 _.priyanshiii01 🔴\n"
     ]
    },
    {
     "name": "stderr",
     "output_type": "stream",
     "text": [
      "Action: race: 100%|██████████| 4/4 [00:00<00:00,  7.21it/s]   \n",
      "Action: race: 100%|██████████| 4/4 [00:00<00:00,  7.07it/s]   \n",
      "Action: race: 100%|██████████| 4/4 [00:00<00:00,  7.11it/s]   \n"
     ]
    },
    {
     "name": "stdout",
     "output_type": "stream",
     "text": [
      "\n",
      "🔴 _.ranideepa._ 🔴\n"
     ]
    },
    {
     "name": "stderr",
     "output_type": "stream",
     "text": [
      "Action: race: 100%|██████████| 4/4 [00:00<00:00,  6.56it/s]   \n",
      "Action: race: 100%|██████████| 4/4 [00:00<00:00,  6.84it/s]   \n",
      "Action: race: 100%|██████████| 4/4 [00:00<00:00,  6.90it/s]   \n"
     ]
    },
    {
     "name": "stdout",
     "output_type": "stream",
     "text": [
      "\n",
      "🔴 _.samridhii_ 🔴\n"
     ]
    },
    {
     "name": "stderr",
     "output_type": "stream",
     "text": [
      "Action: race: 100%|██████████| 4/4 [00:00<00:00,  6.33it/s]   \n",
      "Action: race: 100%|██████████| 4/4 [00:00<00:00,  6.89it/s]   \n",
      "Action: race: 100%|██████████| 4/4 [00:00<00:00,  6.68it/s]   \n"
     ]
    },
    {
     "name": "stdout",
     "output_type": "stream",
     "text": [
      "\n",
      "🔴 _.shikhachaudhary._ 🔴\n",
      "DeepFace (retinaface) error\n",
      "DeepFace (mtcnn) error\n",
      "DeepFace (yolov8) error\n",
      "\n",
      "🔴 _.shobhomita 🔴\n"
     ]
    },
    {
     "name": "stderr",
     "output_type": "stream",
     "text": [
      "2025-07-26 20:34:18.408185: I tensorflow/core/framework/local_rendezvous.cc:407] Local rendezvous is aborting with status: INVALID_ARGUMENT: Must provide as many biases as the last dimension of the input tensor: [32] vs. [0,48,48,3]\n",
      "Action: race: 100%|██████████| 4/4 [00:00<00:00,  6.81it/s]   \n",
      "Action: race: 100%|██████████| 4/4 [00:00<00:00,  7.26it/s]   \n",
      "Action: race: 100%|██████████| 4/4 [00:00<00:00,  7.33it/s]   \n"
     ]
    },
    {
     "name": "stdout",
     "output_type": "stream",
     "text": [
      "\n",
      "🔴 _.shrush_ 🔴\n"
     ]
    },
    {
     "name": "stderr",
     "output_type": "stream",
     "text": [
      "Action: race: 100%|██████████| 4/4 [00:00<00:00,  6.48it/s]   \n",
      "Action: race: 100%|██████████| 4/4 [00:00<00:00,  7.10it/s]   \n",
      "Action: race: 100%|██████████| 4/4 [00:00<00:00,  7.34it/s]   \n"
     ]
    },
    {
     "name": "stdout",
     "output_type": "stream",
     "text": [
      "\n",
      "🔴 _.srilakshmi.__ 🔴\n"
     ]
    },
    {
     "name": "stderr",
     "output_type": "stream",
     "text": [
      "Action: race: 100%|██████████| 4/4 [00:00<00:00,  6.50it/s]   \n",
      "Action: race: 100%|██████████| 4/4 [00:00<00:00,  6.87it/s]   \n",
      "Action: race: 100%|██████████| 4/4 [00:00<00:00,  6.75it/s]   \n",
      "Action: race: 100%|██████████| 4/4 [00:00<00:00,  6.69it/s]   \n"
     ]
    },
    {
     "name": "stdout",
     "output_type": "stream",
     "text": [
      "\n",
      "🔴 _.sudeshnax.__ 🔴\n"
     ]
    },
    {
     "name": "stderr",
     "output_type": "stream",
     "text": [
      "Action: race: 100%|██████████| 4/4 [00:00<00:00,  6.76it/s]   \n",
      "Action: race: 100%|██████████| 4/4 [00:00<00:00,  7.54it/s]   \n",
      "Action: race: 100%|██████████| 4/4 [00:00<00:00,  6.90it/s]   \n"
     ]
    },
    {
     "name": "stdout",
     "output_type": "stream",
     "text": [
      "\n",
      "🔴 _.tanisha._.22._ 🔴\n"
     ]
    },
    {
     "name": "stderr",
     "output_type": "stream",
     "text": [
      "Action: race: 100%|██████████| 4/4 [00:00<00:00,  6.96it/s]   \n"
     ]
    },
    {
     "name": "stdout",
     "output_type": "stream",
     "text": [
      "DeepFace (mtcnn) error\n"
     ]
    },
    {
     "name": "stderr",
     "output_type": "stream",
     "text": [
      "Action: race: 100%|██████████| 4/4 [00:00<00:00,  7.25it/s]   \n"
     ]
    },
    {
     "name": "stdout",
     "output_type": "stream",
     "text": [
      "\n",
      "🔴 _.vandana._03 🔴\n",
      "DeepFace (retinaface) error\n",
      "DeepFace (mtcnn) error\n",
      "DeepFace (yolov8) error\n",
      "\n",
      "🔴 _3.4ooo 🔴\n"
     ]
    },
    {
     "name": "stderr",
     "output_type": "stream",
     "text": [
      "Action: race: 100%|██████████| 4/4 [00:00<00:00,  6.59it/s]   \n",
      "Action: race: 100%|██████████| 4/4 [00:00<00:00,  7.37it/s]   \n",
      "Action: race: 100%|██████████| 4/4 [00:00<00:00,  7.10it/s]   \n"
     ]
    },
    {
     "name": "stdout",
     "output_type": "stream",
     "text": [
      "\n",
      "🔴 __.aaddyyyyyyyy 🔴\n"
     ]
    },
    {
     "name": "stderr",
     "output_type": "stream",
     "text": [
      "Action: race: 100%|██████████| 4/4 [00:00<00:00,  6.87it/s]   \n",
      "Action: race: 100%|██████████| 4/4 [00:00<00:00,  7.42it/s]   \n",
      "Action: race: 100%|██████████| 4/4 [00:00<00:00,  6.90it/s]   \n"
     ]
    },
    {
     "name": "stdout",
     "output_type": "stream",
     "text": [
      "\n",
      "🔴 __.aishi_ 🔴\n"
     ]
    },
    {
     "name": "stderr",
     "output_type": "stream",
     "text": [
      "Action: race: 100%|██████████| 4/4 [00:00<00:00,  6.88it/s]   \n",
      "Action: race: 100%|██████████| 4/4 [00:00<00:00,  7.36it/s]   \n",
      "Action: race: 100%|██████████| 4/4 [00:00<00:00,  7.16it/s]   \n"
     ]
    },
    {
     "name": "stdout",
     "output_type": "stream",
     "text": [
      "\n",
      "🔴 __.ambiverttt 🔴\n"
     ]
    },
    {
     "name": "stderr",
     "output_type": "stream",
     "text": [
      "Action: race: 100%|██████████| 4/4 [00:00<00:00,  6.59it/s]   \n",
      "Action: race: 100%|██████████| 4/4 [00:00<00:00,  7.11it/s]   \n",
      "Action: race: 100%|██████████| 4/4 [00:00<00:00,  6.50it/s]   \n"
     ]
    },
    {
     "name": "stdout",
     "output_type": "stream",
     "text": [
      "\n",
      "🔴 __.anuraaag 🔴\n"
     ]
    },
    {
     "name": "stderr",
     "output_type": "stream",
     "text": [
      "Action: race: 100%|██████████| 4/4 [00:00<00:00,  6.71it/s]   \n",
      "Action: race: 100%|██████████| 4/4 [00:00<00:00,  7.13it/s]   \n",
      "Action: race: 100%|██████████| 4/4 [00:00<00:00,  6.64it/s]   \n"
     ]
    },
    {
     "name": "stdout",
     "output_type": "stream",
     "text": [
      "\n",
      "🔴 __.mitara.b.__ 🔴\n"
     ]
    },
    {
     "name": "stderr",
     "output_type": "stream",
     "text": [
      "Action: race: 100%|██████████| 4/4 [00:00<00:00,  6.34it/s]   \n",
      "Action: race: 100%|██████████| 4/4 [00:00<00:00,  7.08it/s]   \n",
      "Action: race: 100%|██████████| 4/4 [00:00<00:00,  7.26it/s]   \n"
     ]
    },
    {
     "name": "stdout",
     "output_type": "stream",
     "text": [
      "\n",
      "🔴 __.prachi.__26 🔴\n"
     ]
    },
    {
     "name": "stderr",
     "output_type": "stream",
     "text": [
      "Action: race: 100%|██████████| 4/4 [00:00<00:00,  6.59it/s]   \n",
      "Action: race: 100%|██████████| 4/4 [00:00<00:00,  7.16it/s]   \n",
      "Action: race: 100%|██████████| 4/4 [00:00<00:00,  7.15it/s]   \n"
     ]
    },
    {
     "name": "stdout",
     "output_type": "stream",
     "text": [
      "\n",
      "🔴 __.sannss 🔴\n"
     ]
    },
    {
     "name": "stderr",
     "output_type": "stream",
     "text": [
      "Action: race: 100%|██████████| 4/4 [00:00<00:00,  6.56it/s]   \n",
      "Action: race: 100%|██████████| 4/4 [00:00<00:00,  6.93it/s]   \n",
      "Action: race: 100%|██████████| 4/4 [00:00<00:00,  6.85it/s]   \n"
     ]
    },
    {
     "name": "stdout",
     "output_type": "stream",
     "text": [
      "\n",
      "🔴 __.shammu_zz 🔴\n"
     ]
    },
    {
     "name": "stderr",
     "output_type": "stream",
     "text": [
      "Action: race: 100%|██████████| 4/4 [00:00<00:00,  6.67it/s]   \n",
      "Action: race: 100%|██████████| 4/4 [00:00<00:00,  6.86it/s]   \n",
      "Action: race: 100%|██████████| 4/4 [00:00<00:00,  6.70it/s]   \n"
     ]
    },
    {
     "name": "stdout",
     "output_type": "stream",
     "text": [
      "\n",
      "🔴 __.soulzy 🔴\n"
     ]
    },
    {
     "name": "stderr",
     "output_type": "stream",
     "text": [
      "Action: race: 100%|██████████| 4/4 [00:00<00:00,  6.34it/s]   \n",
      "Action: race: 100%|██████████| 4/4 [00:00<00:00,  6.93it/s]   \n",
      "Action: race: 100%|██████████| 4/4 [00:00<00:00,  6.86it/s]   \n"
     ]
    },
    {
     "name": "stdout",
     "output_type": "stream",
     "text": [
      "\n",
      "🔴 __.tashaa.__ 🔴\n"
     ]
    },
    {
     "name": "stderr",
     "output_type": "stream",
     "text": [
      "Action: race: 100%|██████████| 4/4 [00:00<00:00,  6.59it/s]   \n",
      "Action: race: 100%|██████████| 4/4 [00:00<00:00,  6.89it/s]   \n",
      "Action: race: 100%|██████████| 4/4 [00:00<00:00,  6.92it/s]   \n"
     ]
    },
    {
     "name": "stdout",
     "output_type": "stream",
     "text": [
      "\n",
      "🔴 ___.ishpreet 🔴\n"
     ]
    },
    {
     "name": "stderr",
     "output_type": "stream",
     "text": [
      "Action: race: 100%|██████████| 4/4 [00:00<00:00,  6.88it/s]   \n",
      "Action: race: 100%|██████████| 4/4 [00:00<00:00,  7.36it/s]   \n",
      "Action: race: 100%|██████████| 4/4 [00:00<00:00,  7.27it/s]   \n"
     ]
    },
    {
     "name": "stdout",
     "output_type": "stream",
     "text": [
      "\n",
      "🔴 ____.jagriti.___ 🔴\n"
     ]
    },
    {
     "name": "stderr",
     "output_type": "stream",
     "text": [
      "Action: race: 100%|██████████| 4/4 [00:00<00:00,  7.16it/s]   \n",
      "Action: race: 100%|██████████| 4/4 [00:00<00:00,  7.37it/s]   \n",
      "Action: race: 100%|██████████| 4/4 [00:00<00:00,  7.22it/s]   \n"
     ]
    },
    {
     "name": "stdout",
     "output_type": "stream",
     "text": [
      "\n",
      "🔴 ______jasmine1_______ 🔴\n"
     ]
    },
    {
     "name": "stderr",
     "output_type": "stream",
     "text": [
      "Action: race: 100%|██████████| 4/4 [00:00<00:00,  6.89it/s]   \n",
      "Action: race: 100%|██████████| 4/4 [00:00<00:00,  6.90it/s]   \n",
      "Action: race: 100%|██████████| 4/4 [00:00<00:00,  6.96it/s]   \n"
     ]
    },
    {
     "name": "stdout",
     "output_type": "stream",
     "text": [
      "\n",
      "🔴 _____keppy_____ 🔴\n"
     ]
    },
    {
     "name": "stderr",
     "output_type": "stream",
     "text": [
      "Action: race: 100%|██████████| 4/4 [00:00<00:00,  6.97it/s]   \n",
      "Action: race: 100%|██████████| 4/4 [00:00<00:00,  7.43it/s]   \n",
      "Action: race: 100%|██████████| 4/4 [00:00<00:00,  7.03it/s]   \n"
     ]
    },
    {
     "name": "stdout",
     "output_type": "stream",
     "text": [
      "\n",
      "🔴 _____tequila_girl 🔴\n",
      "DeepFace (retinaface) error\n",
      "DeepFace (mtcnn) error\n",
      "DeepFace (yolov8) error\n",
      "\n",
      "🔴 ____sanjana___boro____ 🔴\n",
      "DeepFace (retinaface) error\n",
      "DeepFace (mtcnn) error\n",
      "DeepFace (yolov8) error\n",
      "\n",
      "🔴 ____vartikaa___ 🔴\n"
     ]
    },
    {
     "name": "stderr",
     "output_type": "stream",
     "text": [
      "Action: race: 100%|██████████| 4/4 [00:00<00:00,  6.48it/s]   \n",
      "Action: race: 100%|██████████| 4/4 [00:00<00:00,  6.92it/s]   \n",
      "Action: race: 100%|██████████| 4/4 [00:00<00:00,  6.91it/s]   \n"
     ]
    },
    {
     "name": "stdout",
     "output_type": "stream",
     "text": [
      "\n",
      "🔴 ___aamu___05 🔴\n"
     ]
    },
    {
     "name": "stderr",
     "output_type": "stream",
     "text": [
      "Action: race: 100%|██████████| 4/4 [00:00<00:00,  6.32it/s]   \n",
      "Action: race: 100%|██████████| 4/4 [00:00<00:00,  6.92it/s]   \n",
      "Action: race: 100%|██████████| 4/4 [00:00<00:00,  6.62it/s]   \n"
     ]
    },
    {
     "name": "stdout",
     "output_type": "stream",
     "text": [
      "\n",
      "🔴 ___antara__ghosh___ 🔴\n"
     ]
    },
    {
     "name": "stderr",
     "output_type": "stream",
     "text": [
      "Action: race: 100%|██████████| 4/4 [00:00<00:00,  6.70it/s]   \n",
      "Action: race: 100%|██████████| 4/4 [00:00<00:00,  7.30it/s]   \n",
      "Action: race: 100%|██████████| 4/4 [00:00<00:00,  7.18it/s]   \n"
     ]
    },
    {
     "name": "stdout",
     "output_type": "stream",
     "text": [
      "\n",
      "🔴 ___chinmoy_bora 🔴\n"
     ]
    },
    {
     "name": "stderr",
     "output_type": "stream",
     "text": [
      "Action: race: 100%|██████████| 4/4 [00:00<00:00,  6.31it/s]   \n",
      "Action: race: 100%|██████████| 4/4 [00:00<00:00,  6.94it/s]   \n",
      "Action: race: 100%|██████████| 4/4 [00:00<00:00,  6.88it/s]   \n"
     ]
    },
    {
     "name": "stdout",
     "output_type": "stream",
     "text": [
      "\n",
      "🔴 ___dhanu07___ 🔴\n"
     ]
    },
    {
     "name": "stderr",
     "output_type": "stream",
     "text": [
      "Action: race: 100%|██████████| 4/4 [00:00<00:00,  6.02it/s]   \n"
     ]
    },
    {
     "name": "stdout",
     "output_type": "stream",
     "text": [
      "DeepFace (mtcnn) error\n"
     ]
    },
    {
     "name": "stderr",
     "output_type": "stream",
     "text": [
      "Action: race: 100%|██████████| 4/4 [00:00<00:00,  6.51it/s]   \n"
     ]
    },
    {
     "name": "stdout",
     "output_type": "stream",
     "text": [
      "\n",
      "🔴 ___dubey___ji___ 🔴\n"
     ]
    },
    {
     "name": "stderr",
     "output_type": "stream",
     "text": [
      "Action: race: 100%|██████████| 4/4 [00:00<00:00,  6.44it/s]   \n",
      "Action: race: 100%|██████████| 4/4 [00:00<00:00,  6.77it/s]   \n",
      "Action: race: 100%|██████████| 4/4 [00:00<00:00,  6.58it/s]   \n"
     ]
    },
    {
     "name": "stdout",
     "output_type": "stream",
     "text": [
      "\n",
      "🔴 ___jasmine_05 🔴\n"
     ]
    },
    {
     "name": "stderr",
     "output_type": "stream",
     "text": [
      "Action: race: 100%|██████████| 4/4 [00:00<00:00,  6.63it/s]   \n",
      "Action: race: 100%|██████████| 4/4 [00:00<00:00,  6.96it/s]   \n",
      "Action: race: 100%|██████████| 4/4 [00:00<00:00,  7.03it/s]   \n"
     ]
    },
    {
     "name": "stdout",
     "output_type": "stream",
     "text": [
      "\n",
      "🔴 ___jelly_bean___ 🔴\n"
     ]
    },
    {
     "name": "stderr",
     "output_type": "stream",
     "text": [
      "Action: race: 100%|██████████| 4/4 [00:00<00:00,  6.44it/s]   \n",
      "Action: race: 100%|██████████| 4/4 [00:00<00:00,  6.96it/s]   \n",
      "Action: race: 100%|██████████| 4/4 [00:00<00:00,  6.84it/s]   \n"
     ]
    },
    {
     "name": "stdout",
     "output_type": "stream",
     "text": [
      "\n",
      "🔴 ___kamakshiiiiii 🔴\n"
     ]
    },
    {
     "name": "stderr",
     "output_type": "stream",
     "text": [
      "Action: race: 100%|██████████| 4/4 [00:00<00:00,  6.45it/s]   \n",
      "Action: race: 100%|██████████| 4/4 [00:00<00:00,  6.73it/s]   \n",
      "Action: race: 100%|██████████| 4/4 [00:00<00:00,  6.87it/s]   \n"
     ]
    },
    {
     "name": "stdout",
     "output_type": "stream",
     "text": [
      "\n",
      "🔴 ___malemnganbiii___ 🔴\n"
     ]
    },
    {
     "name": "stderr",
     "output_type": "stream",
     "text": [
      "Action: race: 100%|██████████| 4/4 [00:00<00:00,  6.91it/s]   \n",
      "Action: race: 100%|██████████| 4/4 [00:00<00:00,  7.45it/s]   \n",
      "Action: race: 100%|██████████| 4/4 [00:00<00:00,  7.21it/s]   \n"
     ]
    },
    {
     "name": "stdout",
     "output_type": "stream",
     "text": [
      "\n",
      "🔴 ___maxumilian___ 🔴\n"
     ]
    },
    {
     "name": "stderr",
     "output_type": "stream",
     "text": [
      "Action: race: 100%|██████████| 4/4 [00:00<00:00,  6.94it/s]   \n",
      "Action: race: 100%|██████████| 4/4 [00:00<00:00,  7.08it/s]   \n",
      "Action: race: 100%|██████████| 4/4 [00:00<00:00,  6.93it/s]   \n"
     ]
    },
    {
     "name": "stdout",
     "output_type": "stream",
     "text": [
      "\n",
      "🔴 ___mikku___ 🔴\n",
      "DeepFace (retinaface) error\n",
      "DeepFace (mtcnn) error\n",
      "DeepFace (yolov8) error\n",
      "\n",
      "🔴 ___nikhat____ 🔴\n"
     ]
    },
    {
     "name": "stderr",
     "output_type": "stream",
     "text": [
      "2025-07-26 20:37:43.709665: I tensorflow/core/framework/local_rendezvous.cc:407] Local rendezvous is aborting with status: INVALID_ARGUMENT: Must provide as many biases as the last dimension of the input tensor: [32] vs. [0,48,48,3]\n",
      "Action: race: 100%|██████████| 4/4 [00:00<00:00,  7.02it/s]   \n",
      "Action: race: 100%|██████████| 4/4 [00:00<00:00,  7.32it/s]   \n",
      "Action: race: 100%|██████████| 4/4 [00:00<00:00,  6.65it/s]   \n"
     ]
    },
    {
     "name": "stdout",
     "output_type": "stream",
     "text": [
      "\n",
      "🔴 ___notyourcupoftea___ 🔴\n"
     ]
    },
    {
     "name": "stderr",
     "output_type": "stream",
     "text": [
      "Action: race: 100%|██████████| 4/4 [00:00<00:00,  6.63it/s]   \n"
     ]
    },
    {
     "name": "stdout",
     "output_type": "stream",
     "text": [
      "DeepFace (mtcnn) error\n"
     ]
    },
    {
     "name": "stderr",
     "output_type": "stream",
     "text": [
      "Action: race: 100%|██████████| 4/4 [00:00<00:00,  6.91it/s]   \n"
     ]
    },
    {
     "name": "stdout",
     "output_type": "stream",
     "text": [
      "\n",
      "🔴 ___riyuhhh___ 🔴\n"
     ]
    },
    {
     "name": "stderr",
     "output_type": "stream",
     "text": [
      "Action: race: 100%|██████████| 4/4 [00:00<00:00,  6.64it/s]   \n",
      "Action: race: 100%|██████████| 4/4 [00:00<00:00,  6.87it/s]   \n",
      "Action: race: 100%|██████████| 4/4 [00:00<00:00,  6.53it/s]   \n"
     ]
    },
    {
     "name": "stdout",
     "output_type": "stream",
     "text": [
      "\n",
      "🔴 ___sadah____ 🔴\n",
      "DeepFace (retinaface) error\n",
      "DeepFace (mtcnn) error\n",
      "DeepFace (yolov8) error\n",
      "\n",
      "🔴 ___simran__official___ 🔴\n"
     ]
    },
    {
     "name": "stderr",
     "output_type": "stream",
     "text": [
      "Action: race: 100%|██████████| 4/4 [00:00<00:00,  6.63it/s]   \n",
      "Action: race: 100%|██████████| 4/4 [00:00<00:00,  6.74it/s]   \n",
      "Action: race: 100%|██████████| 4/4 [00:00<00:00,  6.94it/s]   \n"
     ]
    },
    {
     "name": "stdout",
     "output_type": "stream",
     "text": [
      "\n",
      "🔴 ___srn_9779_ 🔴\n"
     ]
    },
    {
     "name": "stderr",
     "output_type": "stream",
     "text": [
      "Action: race: 100%|██████████| 4/4 [00:00<00:00,  6.67it/s]   \n",
      "Action: race: 100%|██████████| 4/4 [00:00<00:00,  6.85it/s]   \n",
      "Action: race: 100%|██████████| 4/4 [00:00<00:00,  6.81it/s]   \n"
     ]
    },
    {
     "name": "stdout",
     "output_type": "stream",
     "text": [
      "\n",
      "🔴 ___tannu20 🔴\n"
     ]
    },
    {
     "name": "stderr",
     "output_type": "stream",
     "text": [
      "Action: race: 100%|██████████| 4/4 [00:00<00:00,  6.57it/s]   \n",
      "Action: race: 100%|██████████| 4/4 [00:00<00:00,  7.17it/s]   \n",
      "Action: race: 100%|██████████| 4/4 [00:00<00:00,  6.92it/s]   \n"
     ]
    },
    {
     "name": "stdout",
     "output_type": "stream",
     "text": [
      "\n",
      "🔴 ___tripathi__ 🔴\n"
     ]
    },
    {
     "name": "stderr",
     "output_type": "stream",
     "text": [
      "Action: race: 100%|██████████| 4/4 [00:00<00:00,  6.93it/s]   \n",
      "Action: race: 100%|██████████| 4/4 [00:00<00:00,  7.33it/s]   \n",
      "Action: race: 100%|██████████| 4/4 [00:00<00:00,  7.22it/s]   \n"
     ]
    },
    {
     "name": "stdout",
     "output_type": "stream",
     "text": [
      "\n",
      "🔴 ___twinkling___ 🔴\n"
     ]
    },
    {
     "name": "stderr",
     "output_type": "stream",
     "text": [
      "Action: race: 100%|██████████| 4/4 [00:00<00:00,  6.73it/s]   \n",
      "Action: race: 100%|██████████| 4/4 [00:00<00:00,  7.39it/s]   \n",
      "Action: race: 100%|██████████| 4/4 [00:00<00:00,  7.24it/s]   \n"
     ]
    },
    {
     "name": "stdout",
     "output_type": "stream",
     "text": [
      "\n",
      "🔴 ___whatarethose 🔴\n"
     ]
    },
    {
     "name": "stderr",
     "output_type": "stream",
     "text": [
      "Action: race: 100%|██████████| 4/4 [00:00<00:00,  6.98it/s]   \n",
      "Action: race: 100%|██████████| 4/4 [00:00<00:00,  7.17it/s]   \n",
      "Action: race: 100%|██████████| 4/4 [00:00<00:00,  7.18it/s]   \n"
     ]
    },
    {
     "name": "stdout",
     "output_type": "stream",
     "text": [
      "\n",
      "🔴 __akshitagupta 🔴\n"
     ]
    },
    {
     "name": "stderr",
     "output_type": "stream",
     "text": [
      "Action: race: 100%|██████████| 4/4 [00:00<00:00,  6.38it/s]   \n",
      "Action: race: 100%|██████████| 4/4 [00:00<00:00,  6.84it/s]   \n",
      "Action: race: 100%|██████████| 4/4 [00:00<00:00,  6.90it/s]   \n"
     ]
    },
    {
     "name": "stdout",
     "output_type": "stream",
     "text": [
      "\n",
      "🔴 __ankitaa._____ 🔴\n"
     ]
    },
    {
     "name": "stderr",
     "output_type": "stream",
     "text": [
      "Action: race: 100%|██████████| 4/4 [00:00<00:00,  6.68it/s]   \n",
      "Action: race: 100%|██████████| 4/4 [00:00<00:00,  7.23it/s]   \n",
      "Action: race: 100%|██████████| 4/4 [00:00<00:00,  7.15it/s]   \n"
     ]
    },
    {
     "name": "stdout",
     "output_type": "stream",
     "text": [
      "\n",
      "🔴 __apurvapawar_ 🔴\n"
     ]
    },
    {
     "name": "stderr",
     "output_type": "stream",
     "text": [
      "Action: race: 100%|██████████| 4/4 [00:00<00:00,  6.63it/s]   \n",
      "Action: race: 100%|██████████| 4/4 [00:00<00:00,  6.91it/s]   \n",
      "Action: race: 100%|██████████| 4/4 [00:00<00:00,  7.12it/s]   \n"
     ]
    },
    {
     "name": "stdout",
     "output_type": "stream",
     "text": [
      "\n",
      "🔴 __ar_yaaa__ 🔴\n"
     ]
    },
    {
     "name": "stderr",
     "output_type": "stream",
     "text": [
      "Action: race: 100%|██████████| 4/4 [00:00<00:00,  6.79it/s]   \n",
      "Action: race: 100%|██████████| 4/4 [00:00<00:00,  7.16it/s]   \n",
      "Action: race: 100%|██████████| 4/4 [00:00<00:00,  7.24it/s]   \n"
     ]
    },
    {
     "name": "stdout",
     "output_type": "stream",
     "text": [
      "\n",
      "🔴 __barbie_grl 🔴\n"
     ]
    },
    {
     "name": "stderr",
     "output_type": "stream",
     "text": [
      "Action: race: 100%|██████████| 4/4 [00:00<00:00,  6.61it/s]   \n"
     ]
    },
    {
     "name": "stdout",
     "output_type": "stream",
     "text": [
      "DeepFace (mtcnn) error\n"
     ]
    },
    {
     "name": "stderr",
     "output_type": "stream",
     "text": [
      "Action: race: 100%|██████████| 4/4 [00:00<00:00,  7.03it/s]   \n"
     ]
    },
    {
     "name": "stdout",
     "output_type": "stream",
     "text": [
      "\n",
      "🔴 __baruah__96 🔴\n"
     ]
    },
    {
     "name": "stderr",
     "output_type": "stream",
     "text": [
      "Action: race: 100%|██████████| 4/4 [00:00<00:00,  6.96it/s]   \n",
      "Action: race: 100%|██████████| 4/4 [00:00<00:00,  6.99it/s]   \n",
      "Action: race: 100%|██████████| 4/4 [00:00<00:00,  7.03it/s]   \n"
     ]
    },
    {
     "name": "stdout",
     "output_type": "stream",
     "text": [
      "\n",
      "🔴 __beauty__squad__ 🔴\n"
     ]
    },
    {
     "name": "stderr",
     "output_type": "stream",
     "text": [
      "Action: race: 100%|██████████| 4/4 [00:00<00:00,  6.86it/s]   \n",
      "Action: race: 100%|██████████| 4/4 [00:00<00:00,  7.11it/s]   \n",
      "Action: race: 100%|██████████| 4/4 [00:00<00:00,  7.43it/s]   \n"
     ]
    },
    {
     "name": "stdout",
     "output_type": "stream",
     "text": [
      "\n",
      "🔴 __bellabeautyy 🔴\n"
     ]
    },
    {
     "name": "stderr",
     "output_type": "stream",
     "text": [
      "Action: race: 100%|██████████| 4/4 [00:00<00:00,  6.72it/s]   \n",
      "Action: race: 100%|██████████| 4/4 [00:00<00:00,  6.82it/s]   \n",
      "Action: race: 100%|██████████| 4/4 [00:00<00:00,  6.98it/s]   \n"
     ]
    },
    {
     "name": "stdout",
     "output_type": "stream",
     "text": [
      "\n",
      "🔴 __bhumi_thakur___ 🔴\n"
     ]
    },
    {
     "name": "stderr",
     "output_type": "stream",
     "text": [
      "Action: race: 100%|██████████| 4/4 [00:00<00:00,  6.84it/s]   \n",
      "Action: race: 100%|██████████| 4/4 [00:00<00:00,  6.83it/s]   \n",
      "Action: race: 100%|██████████| 4/4 [00:00<00:00,  7.05it/s]   \n"
     ]
    },
    {
     "name": "stdout",
     "output_type": "stream",
     "text": [
      "\n",
      "🔴 __bint.abdullah__ 🔴\n"
     ]
    },
    {
     "name": "stderr",
     "output_type": "stream",
     "text": [
      "Action: race: 100%|██████████| 4/4 [00:00<00:00,  6.66it/s]   \n",
      "Action: race: 100%|██████████| 4/4 [00:00<00:00,  7.04it/s]   \n",
      "Action: race: 100%|██████████| 4/4 [00:00<00:00,  6.60it/s]   \n"
     ]
    },
    {
     "name": "stdout",
     "output_type": "stream",
     "text": [
      "\n",
      "🔴 __brownie_love__ 🔴\n"
     ]
    },
    {
     "name": "stderr",
     "output_type": "stream",
     "text": [
      "Action: race: 100%|██████████| 4/4 [00:00<00:00,  6.06it/s]   \n",
      "Action: race: 100%|██████████| 4/4 [00:00<00:00,  5.96it/s]   \n",
      "Action: race: 100%|██████████| 4/4 [00:00<00:00,  6.29it/s]   \n"
     ]
    },
    {
     "name": "stdout",
     "output_type": "stream",
     "text": [
      "\n",
      "🔴 __chachiii_ 🔴\n"
     ]
    },
    {
     "name": "stderr",
     "output_type": "stream",
     "text": [
      "Action: race: 100%|██████████| 4/4 [00:00<00:00,  6.56it/s]   \n",
      "Action: race: 100%|██████████| 4/4 [00:00<00:00,  6.74it/s]   \n",
      "Action: race: 100%|██████████| 4/4 [00:00<00:00,  7.02it/s]   \n"
     ]
    },
    {
     "name": "stdout",
     "output_type": "stream",
     "text": [
      "\n",
      "🔴 __chikka 🔴\n"
     ]
    },
    {
     "name": "stderr",
     "output_type": "stream",
     "text": [
      "Action: race: 100%|██████████| 4/4 [00:00<00:00,  6.67it/s]   \n",
      "Action: race: 100%|██████████| 4/4 [00:00<00:00,  7.06it/s]   \n",
      "Action: race: 100%|██████████| 4/4 [00:00<00:00,  6.59it/s]   \n"
     ]
    },
    {
     "name": "stdout",
     "output_type": "stream",
     "text": [
      "\n",
      "🔴 __clematiss__ 🔴\n"
     ]
    },
    {
     "name": "stderr",
     "output_type": "stream",
     "text": [
      "Action: race: 100%|██████████| 4/4 [00:00<00:00,  6.70it/s]   \n",
      "Action: race: 100%|██████████| 4/4 [00:00<00:00,  7.00it/s]   \n",
      "Action: race: 100%|██████████| 4/4 [00:00<00:00,  6.76it/s]   \n"
     ]
    },
    {
     "name": "stdout",
     "output_type": "stream",
     "text": [
      "\n",
      "🔴 __darshan____0024 🔴\n"
     ]
    },
    {
     "name": "stderr",
     "output_type": "stream",
     "text": [
      "Action: race: 100%|██████████| 4/4 [00:00<00:00,  6.56it/s]   \n",
      "Action: race: 100%|██████████| 4/4 [00:00<00:00,  6.86it/s]   \n",
      "Action: race: 100%|██████████| 4/4 [00:00<00:00,  6.60it/s]   \n"
     ]
    },
    {
     "name": "stdout",
     "output_type": "stream",
     "text": [
      "\n",
      "🔴 __devlina__ 🔴\n"
     ]
    },
    {
     "name": "stderr",
     "output_type": "stream",
     "text": [
      "Action: race: 100%|██████████| 4/4 [00:00<00:00,  6.59it/s]   \n",
      "Action: race: 100%|██████████| 4/4 [00:00<00:00,  6.74it/s]   \n",
      "Action: race: 100%|██████████| 4/4 [00:00<00:00,  6.81it/s]   \n"
     ]
    },
    {
     "name": "stdout",
     "output_type": "stream",
     "text": [
      "\n",
      "🔴 __dr__.aastha___.yadav 🔴\n"
     ]
    },
    {
     "name": "stderr",
     "output_type": "stream",
     "text": [
      "Action: race: 100%|██████████| 4/4 [00:00<00:00,  6.70it/s]   \n",
      "Action: race: 100%|██████████| 4/4 [00:00<00:00,  6.76it/s]   \n",
      "Action: race: 100%|██████████| 4/4 [00:00<00:00,  6.84it/s]   \n"
     ]
    },
    {
     "name": "stdout",
     "output_type": "stream",
     "text": [
      "\n",
      "🔴 __embxx 🔴\n"
     ]
    },
    {
     "name": "stderr",
     "output_type": "stream",
     "text": [
      "Action: race: 100%|██████████| 4/4 [00:00<00:00,  6.27it/s]   \n",
      "Action: race: 100%|██████████| 4/4 [00:00<00:00,  6.36it/s]   \n",
      "Action: race: 100%|██████████| 4/4 [00:00<00:00,  6.80it/s]   \n"
     ]
    },
    {
     "name": "stdout",
     "output_type": "stream",
     "text": [
      "\n",
      "🔴 __estrellaaaa.__ 🔴\n"
     ]
    },
    {
     "name": "stderr",
     "output_type": "stream",
     "text": [
      "Action: race: 100%|██████████| 4/4 [00:00<00:00,  6.57it/s]   \n",
      "Action: race: 100%|██████████| 4/4 [00:00<00:00,  6.69it/s]   \n",
      "Action: race: 100%|██████████| 4/4 [00:00<00:00,  5.60it/s]   \n"
     ]
    },
    {
     "name": "stdout",
     "output_type": "stream",
     "text": [
      "\n",
      "🔴 __hussainujjain 🔴\n"
     ]
    },
    {
     "name": "stderr",
     "output_type": "stream",
     "text": [
      "Action: race: 100%|██████████| 4/4 [00:00<00:00,  6.17it/s]   \n",
      "Action: race: 100%|██████████| 4/4 [00:00<00:00,  6.28it/s]   \n",
      "Action: race: 100%|██████████| 4/4 [00:00<00:00,  6.12it/s]   \n"
     ]
    },
    {
     "name": "stdout",
     "output_type": "stream",
     "text": [
      "\n",
      "🔴 __iamleeba._ 🔴\n",
      "DeepFace (retinaface) error\n",
      "DeepFace (mtcnn) error\n",
      "DeepFace (yolov8) error\n",
      "\n",
      "🔴 __ishannnnn._ 🔴\n"
     ]
    },
    {
     "name": "stderr",
     "output_type": "stream",
     "text": [
      "2025-07-26 20:40:48.608815: I tensorflow/core/framework/local_rendezvous.cc:407] Local rendezvous is aborting with status: INVALID_ARGUMENT: Must provide as many biases as the last dimension of the input tensor: [32] vs. [0,48,48,3]\n",
      "Action: race: 100%|██████████| 4/4 [00:00<00:00,  6.98it/s]   \n",
      "Action: race: 100%|██████████| 4/4 [00:00<00:00,  7.44it/s]   \n",
      "Action: race: 100%|██████████| 4/4 [00:00<00:00,  7.11it/s]   \n"
     ]
    },
    {
     "name": "stdout",
     "output_type": "stream",
     "text": [
      "\n",
      "🔴 __ishikasachdeva__ 🔴\n"
     ]
    },
    {
     "name": "stderr",
     "output_type": "stream",
     "text": [
      "Action: race: 100%|██████████| 4/4 [00:00<00:00,  7.07it/s]   \n",
      "Action: race: 100%|██████████| 4/4 [00:00<00:00,  7.28it/s]   \n",
      "Action: race: 100%|██████████| 4/4 [00:00<00:00,  7.03it/s]   \n"
     ]
    },
    {
     "name": "stdout",
     "output_type": "stream",
     "text": [
      "\n",
      "🔴 __ishsh__ 🔴\n"
     ]
    },
    {
     "name": "stderr",
     "output_type": "stream",
     "text": [
      "Action: race: 100%|██████████| 4/4 [00:00<00:00,  6.78it/s]   \n",
      "Action: race: 100%|██████████| 4/4 [00:00<00:00,  7.03it/s]   \n",
      "Action: race: 100%|██████████| 4/4 [00:00<00:00,  7.03it/s]   \n"
     ]
    },
    {
     "name": "stdout",
     "output_type": "stream",
     "text": [
      "\n",
      "🔴 __jenny_pereira__ 🔴\n"
     ]
    },
    {
     "name": "stderr",
     "output_type": "stream",
     "text": [
      "Action: race: 100%|██████████| 4/4 [00:00<00:00,  6.74it/s]   \n",
      "Action: race: 100%|██████████| 4/4 [00:00<00:00,  7.30it/s]   \n",
      "Action: race: 100%|██████████| 4/4 [00:00<00:00,  7.05it/s]   \n"
     ]
    },
    {
     "name": "stdout",
     "output_type": "stream",
     "text": [
      "\n",
      "🔴 __jess_mavalia__ 🔴\n",
      "DeepFace (retinaface) error\n",
      "DeepFace (mtcnn) error\n",
      "DeepFace (yolov8) error\n",
      "\n",
      "🔴 __jessferns__43 🔴\n"
     ]
    },
    {
     "name": "stderr",
     "output_type": "stream",
     "text": [
      "Action: race: 100%|██████████| 4/4 [00:00<00:00,  6.43it/s]   \n",
      "Action: race: 100%|██████████| 4/4 [00:00<00:00,  7.20it/s]   \n",
      "Action: race: 100%|██████████| 4/4 [00:00<00:00,  6.87it/s]   \n"
     ]
    },
    {
     "name": "stdout",
     "output_type": "stream",
     "text": [
      "\n",
      "🔴 __kajal.bisht__ 🔴\n"
     ]
    },
    {
     "name": "stderr",
     "output_type": "stream",
     "text": [
      "Action: race: 100%|██████████| 4/4 [00:00<00:00,  6.64it/s]   \n",
      "Action: race: 100%|██████████| 4/4 [00:00<00:00,  6.93it/s]   \n",
      "Action: race: 100%|██████████| 4/4 [00:00<00:00,  6.85it/s]   \n"
     ]
    },
    {
     "name": "stdout",
     "output_type": "stream",
     "text": [
      "\n",
      "🔴 __kalitapriyamr__ 🔴\n"
     ]
    },
    {
     "name": "stderr",
     "output_type": "stream",
     "text": [
      "Action: race: 100%|██████████| 4/4 [00:00<00:00,  6.50it/s]   \n"
     ]
    },
    {
     "name": "stdout",
     "output_type": "stream",
     "text": [
      "DeepFace (mtcnn) error\n"
     ]
    },
    {
     "name": "stderr",
     "output_type": "stream",
     "text": [
      "Action: race: 100%|██████████| 4/4 [00:00<00:00,  6.21it/s]   \n"
     ]
    },
    {
     "name": "stdout",
     "output_type": "stream",
     "text": [
      "\n",
      "🔴 __kaur___simran 🔴\n"
     ]
    },
    {
     "name": "stderr",
     "output_type": "stream",
     "text": [
      "Action: race: 100%|██████████| 4/4 [00:00<00:00,  6.88it/s]   \n",
      "Action: race: 100%|██████████| 4/4 [00:00<00:00,  7.02it/s]   \n",
      "Action: race: 100%|██████████| 4/4 [00:00<00:00,  7.35it/s]   \n"
     ]
    },
    {
     "name": "stdout",
     "output_type": "stream",
     "text": [
      "\n",
      "🔴 __khushiiiii__3 🔴\n",
      "DeepFace (retinaface) error\n",
      "DeepFace (mtcnn) error\n"
     ]
    },
    {
     "name": "stderr",
     "output_type": "stream",
     "text": [
      "Action: race: 100%|██████████| 4/4 [00:00<00:00,  7.25it/s]   \n"
     ]
    },
    {
     "name": "stdout",
     "output_type": "stream",
     "text": [
      "\n",
      "🔴 __kripali 🔴\n"
     ]
    },
    {
     "name": "stderr",
     "output_type": "stream",
     "text": [
      "Action: race: 100%|██████████| 4/4 [00:00<00:00,  7.17it/s]   \n",
      "Action: race: 100%|██████████| 4/4 [00:00<00:00,  7.50it/s]   \n",
      "Action: race: 100%|██████████| 4/4 [00:00<00:00,  7.22it/s]   \n"
     ]
    },
    {
     "name": "stdout",
     "output_type": "stream",
     "text": [
      "\n",
      "🔴 __lil.jannat 🔴\n",
      "DeepFace (retinaface) error\n",
      "DeepFace (mtcnn) error\n",
      "DeepFace (yolov8) error\n",
      "\n",
      "🔴 __lucy.2.0__ 🔴\n",
      "DeepFace (retinaface) error\n",
      "DeepFace (mtcnn) error\n"
     ]
    },
    {
     "name": "stderr",
     "output_type": "stream",
     "text": [
      "Action: race: 100%|██████████| 4/4 [00:00<00:00,  6.95it/s]   \n"
     ]
    },
    {
     "name": "stdout",
     "output_type": "stream",
     "text": [
      "\n",
      "🔴 __ma.dh.u___ 🔴\n"
     ]
    },
    {
     "name": "stderr",
     "output_type": "stream",
     "text": [
      "Action: race: 100%|██████████| 4/4 [00:00<00:00,  7.00it/s]   \n",
      "Action: race: 100%|██████████| 4/4 [00:00<00:00,  7.33it/s]   \n",
      "Action: race: 100%|██████████| 4/4 [00:00<00:00,  7.09it/s]   \n"
     ]
    },
    {
     "name": "stdout",
     "output_type": "stream",
     "text": [
      "\n",
      "🔴 mynykaa 🔴\n",
      "DeepFace (retinaface) error\n",
      "DeepFace (mtcnn) error\n",
      "DeepFace (yolov8) error\n",
      "\n",
      "🔴 nykaanaturals 🔴\n",
      "DeepFace (retinaface) error\n",
      "DeepFace (mtcnn) error\n",
      "DeepFace (yolov8) error\n",
      "\n",
      "🔴 nykaaskinrx 🔴\n",
      "DeepFace (retinaface) error\n",
      "DeepFace (mtcnn) error\n",
      "DeepFace (yolov8) error\n",
      "\n",
      "🔴 nykaacosmetics 🔴\n",
      "DeepFace (retinaface) error\n",
      "DeepFace (mtcnn) error\n",
      "DeepFace (yolov8) error\n",
      "\n",
      "🔴 wowskinscienceindia 🔴\n"
     ]
    },
    {
     "name": "stderr",
     "output_type": "stream",
     "text": [
      "2025-07-26 20:42:23.123824: I tensorflow/core/framework/local_rendezvous.cc:407] Local rendezvous is aborting with status: INVALID_ARGUMENT: Must provide as many biases as the last dimension of the input tensor: [28] vs. [0,24,24,3]\n"
     ]
    },
    {
     "name": "stdout",
     "output_type": "stream",
     "text": [
      "DeepFace (retinaface) error\n",
      "DeepFace (mtcnn) error\n",
      "DeepFace (yolov8) error\n",
      "\n",
      "🔴 mamaearth.in 🔴\n",
      "DeepFace (retinaface) error\n",
      "DeepFace (mtcnn) error\n",
      "DeepFace (yolov8) error\n",
      "\n",
      "🔴 letspurplle 🔴\n",
      "DeepFace (retinaface) error\n",
      "DeepFace (mtcnn) error\n",
      "DeepFace (yolov8) error\n",
      "\n",
      "🔴 asabeautyindia 🔴\n",
      "DeepFace (retinaface) error\n",
      "DeepFace (mtcnn) error\n",
      "DeepFace (yolov8) error\n",
      "\n",
      "🔴 trysugar 🔴\n",
      "DeepFace (retinaface) error\n",
      "DeepFace (mtcnn) error\n",
      "DeepFace (yolov8) error\n",
      "\n",
      "🔴 nathabit.in 🔴\n",
      "DeepFace (retinaface) error\n",
      "DeepFace (mtcnn) error\n",
      "DeepFace (yolov8) error\n",
      "\n",
      "🔴 discover.pilgrim 🔴\n",
      "DeepFace (retinaface) error\n",
      "DeepFace (mtcnn) error\n",
      "DeepFace (yolov8) error\n",
      "\n",
      "🔴 vlccin 🔴\n",
      "DeepFace (retinaface) error\n",
      "DeepFace (mtcnn) error\n",
      "DeepFace (yolov8) error\n",
      "\n",
      "🔴 forestessentials 🔴\n",
      "DeepFace (retinaface) error\n",
      "DeepFace (mtcnn) error\n",
      "DeepFace (yolov8) error\n",
      "\n",
      "🔴 faebeautyofficial 🔴\n",
      "DeepFace (retinaface) error\n",
      "DeepFace (mtcnn) error\n",
      "DeepFace (yolov8) error\n",
      "\n",
      "🔴 thebodyshopindia 🔴\n",
      "DeepFace (retinaface) error\n",
      "DeepFace (mtcnn) error\n",
      "DeepFace (yolov8) error\n",
      "\n",
      "🔴 lovecolorbar 🔴\n",
      "DeepFace (retinaface) error\n",
      "DeepFace (mtcnn) error\n",
      "DeepFace (yolov8) error\n",
      "\n",
      "🔴 biotique_world 🔴\n",
      "DeepFace (retinaface) error\n",
      "DeepFace (mtcnn) error\n",
      "DeepFace (yolov8) error\n",
      "\n",
      "🔴 maccosmeticsindia 🔴\n",
      "DeepFace (retinaface) error\n",
      "DeepFace (mtcnn) error\n",
      "DeepFace (yolov8) error\n",
      "\n",
      "🔴 revlon_india 🔴\n",
      "DeepFace (retinaface) error\n",
      "DeepFace (mtcnn) error\n",
      "DeepFace (yolov8) error\n",
      "\n",
      "🔴 bobbibrownindia 🔴\n",
      "DeepFace (retinaface) error\n",
      "DeepFace (mtcnn) error\n",
      "DeepFace (yolov8) error\n",
      "\n",
      "🔴 himalaya_facecare 🔴\n",
      "DeepFace (retinaface) error\n",
      "DeepFace (mtcnn) error\n",
      "DeepFace (yolov8) error\n",
      "\n",
      "🔴 plumgoodness 🔴\n",
      "DeepFace (retinaface) error\n",
      "DeepFace (mtcnn) error\n",
      "DeepFace (yolov8) error\n",
      "\n",
      "🔴 plumbodylovin 🔴\n",
      "DeepFace (retinaface) error\n",
      "DeepFace (mtcnn) error\n",
      "DeepFace (yolov8) error\n",
      "\n",
      "🔴 disguisecosmetics 🔴\n"
     ]
    },
    {
     "name": "stderr",
     "output_type": "stream",
     "text": [
      "2025-07-26 20:43:40.500576: I tensorflow/core/framework/local_rendezvous.cc:407] Local rendezvous is aborting with status: INVALID_ARGUMENT: Must provide as many biases as the last dimension of the input tensor: [32] vs. [0,48,48,3]\n"
     ]
    },
    {
     "name": "stdout",
     "output_type": "stream",
     "text": [
      "DeepFace (retinaface) error\n",
      "DeepFace (mtcnn) error\n",
      "DeepFace (yolov8) error\n",
      "\n",
      "🔴 myglamm 🔴\n",
      "DeepFace (retinaface) error\n",
      "DeepFace (mtcnn) error\n",
      "DeepFace (yolov8) error\n",
      "\n",
      "🔴 coloressenceofficial 🔴\n",
      "DeepFace (retinaface) error\n",
      "DeepFace (mtcnn) error\n",
      "DeepFace (yolov8) error\n",
      "\n",
      "🔴 rubys.organics 🔴\n",
      "DeepFace (retinaface) error\n",
      "DeepFace (mtcnn) error\n",
      "DeepFace (yolov8) error\n",
      "\n",
      "🔴 elle18_india 🔴\n",
      "DeepFace (retinaface) error\n",
      "DeepFace (mtcnn) error\n",
      "DeepFace (yolov8) error\n",
      "\n",
      "🔴 livon 🔴\n",
      "DeepFace (retinaface) error\n",
      "DeepFace (mtcnn) error\n",
      "DeepFace (yolov8) error\n",
      "\n",
      "🔴 herbalessencesindia 🔴\n",
      "DeepFace (retinaface) error\n",
      "DeepFace (mtcnn) error\n",
      "DeepFace (yolov8) error\n",
      "\n",
      "🔴 thebeautycoindia 🔴\n",
      "DeepFace (retinaface) error\n",
      "DeepFace (mtcnn) error\n",
      "DeepFace (yolov8) error\n",
      "\n",
      "🔴 loverecode 🔴\n",
      "DeepFace (retinaface) error\n",
      "DeepFace (mtcnn) error\n",
      "DeepFace (yolov8) error\n",
      "\n",
      "🔴 facescanada 🔴\n",
      "DeepFace (retinaface) error\n",
      "DeepFace (mtcnn) error\n",
      "DeepFace (yolov8) error\n",
      "\n",
      "🔴 clinique_in 🔴\n",
      "DeepFace (retinaface) error\n",
      "DeepFace (mtcnn) error\n",
      "DeepFace (yolov8) error\n",
      "\n",
      "🔴 suroskiebeauty 🔴\n",
      "DeepFace (retinaface) error\n",
      "DeepFace (mtcnn) error\n",
      "DeepFace (yolov8) error\n",
      "\n",
      "🔴 paccosmetic 🔴\n",
      "DeepFace (retinaface) error\n",
      "DeepFace (mtcnn) error\n",
      "DeepFace (yolov8) error\n",
      "\n",
      "🔴 litcosmeticsindia 🔴\n",
      "DeepFace (retinaface) error\n",
      "DeepFace (mtcnn) error\n",
      "DeepFace (yolov8) error\n",
      "\n",
      "🔴 beauty_secret_highend_makeup 🔴\n"
     ]
    },
    {
     "name": "stderr",
     "output_type": "stream",
     "text": [
      "Action: race: 100%|██████████| 4/4 [00:00<00:00,  7.06it/s]   \n",
      "Action: race: 100%|██████████| 4/4 [00:00<00:00,  7.20it/s]   \n",
      "Action: race: 100%|██████████| 4/4 [00:00<00:00,  7.17it/s]   \n"
     ]
    },
    {
     "name": "stdout",
     "output_type": "stream",
     "text": [
      "\n",
      "🔴 biodermaindia 🔴\n",
      "DeepFace (retinaface) error\n",
      "DeepFace (mtcnn) error\n",
      "DeepFace (yolov8) error\n",
      "\n",
      "🔴 mymakeupstory_india 🔴\n",
      "DeepFace (retinaface) error\n",
      "DeepFace (mtcnn) error\n",
      "DeepFace (yolov8) error\n",
      "\n",
      "🔴 londonprimeindia 🔴\n",
      "DeepFace (retinaface) error\n",
      "DeepFace (mtcnn) error\n",
      "DeepFace (yolov8) error\n",
      "\n",
      "🔴 charactercosmeticsindia 🔴\n",
      "DeepFace (retinaface) error\n",
      "DeepFace (mtcnn) error\n",
      "DeepFace (yolov8) error\n",
      "\n",
      "🔴 forever52india 🔴\n",
      "DeepFace (retinaface) error\n",
      "DeepFace (mtcnn) error\n",
      "DeepFace (yolov8) error\n",
      "\n",
      "🔴 keautybeauty.in 🔴\n",
      "DeepFace (retinaface) error\n",
      "DeepFace (mtcnn) error\n",
      "DeepFace (yolov8) error\n",
      "\n",
      "🔴 shopaarel 🔴\n",
      "DeepFace (retinaface) error\n",
      "DeepFace (mtcnn) error\n",
      "DeepFace (yolov8) error\n",
      "\n",
      "🔴 justgoldindia 🔴\n",
      "DeepFace (retinaface) error\n",
      "DeepFace (mtcnn) error\n",
      "DeepFace (yolov8) error\n",
      "\n",
      "🔴 lashupindia 🔴\n",
      "DeepFace (retinaface) error\n",
      "DeepFace (mtcnn) error\n",
      "DeepFace (yolov8) error\n",
      "\n",
      "🔴 saturnhealth.ghc 🔴\n",
      "DeepFace (retinaface) error\n",
      "DeepFace (mtcnn) error\n",
      "DeepFace (yolov8) error\n",
      "\n",
      "🔴 skinkraftshop 🔴\n",
      "DeepFace (retinaface) error\n",
      "DeepFace (mtcnn) error\n",
      "DeepFace (yolov8) error\n",
      "\n",
      "🔴 marshealth.ghc 🔴\n",
      "DeepFace (retinaface) error\n",
      "DeepFace (mtcnn) error\n",
      "DeepFace (yolov8) error\n",
      "\n",
      "🔴 beromtnails 🔴\n",
      "DeepFace (retinaface) error\n",
      "DeepFace (mtcnn) error\n",
      "DeepFace (yolov8) error\n",
      "\n",
      "🔴 blissible_cosmetics 🔴\n",
      "DeepFace (retinaface) error\n",
      "DeepFace (mtcnn) error\n",
      "DeepFace (yolov8) error\n",
      "\n",
      "🔴 prishebeauty 🔴\n",
      "DeepFace (retinaface) error\n",
      "DeepFace (mtcnn) error\n",
      "DeepFace (yolov8) error\n",
      "\n",
      "🔴 kindedbeauty 🔴\n",
      "DeepFace (retinaface) error\n",
      "DeepFace (mtcnn) error\n",
      "DeepFace (yolov8) error\n",
      "\n",
      "🔴 abelia.cares 🔴\n",
      "DeepFace (retinaface) error\n",
      "DeepFace (mtcnn) error\n",
      "DeepFace (yolov8) error\n",
      "\n",
      "🔴 farmbeautyofficial 🔴\n",
      "DeepFace (retinaface) error\n",
      "DeepFace (mtcnn) error\n",
      "DeepFace (yolov8) error\n",
      "\n",
      "🔴 ellement.company 🔴\n",
      "DeepFace (retinaface) error\n",
      "DeepFace (mtcnn) error\n",
      "DeepFace (yolov8) error\n",
      "\n",
      "🔴 skinpassword.in 🔴\n",
      "DeepFace (retinaface) error\n",
      "DeepFace (mtcnn) error\n",
      "DeepFace (yolov8) error\n",
      "\n",
      "🔴 kaybykatrina 🔴\n"
     ]
    },
    {
     "name": "stderr",
     "output_type": "stream",
     "text": [
      "2025-07-26 20:46:08.158142: I tensorflow/core/framework/local_rendezvous.cc:407] Local rendezvous is aborting with status: INVALID_ARGUMENT: Must provide as many biases as the last dimension of the input tensor: [32] vs. [0,48,48,3]\n"
     ]
    },
    {
     "name": "stdout",
     "output_type": "stream",
     "text": [
      "DeepFace (retinaface) error\n",
      "DeepFace (mtcnn) error\n",
      "DeepFace (yolov8) error\n",
      "\n",
      "🔴 82e.official 🔴\n",
      "DeepFace (retinaface) error\n",
      "DeepFace (mtcnn) error\n",
      "DeepFace (yolov8) error\n",
      "\n",
      "🔴 arata.in 🔴\n",
      "DeepFace (retinaface) error\n",
      "DeepFace (mtcnn) error\n",
      "DeepFace (yolov8) error\n",
      "\n",
      "🔴 herbyangelofficial 🔴\n",
      "DeepFace (retinaface) error\n",
      "DeepFace (mtcnn) error\n",
      "DeepFace (yolov8) error\n",
      "\n",
      "🔴 nutriglowcosmetics 🔴\n",
      "DeepFace (retinaface) error\n",
      "DeepFace (mtcnn) error\n",
      "DeepFace (yolov8) error\n",
      "\n",
      "🔴 oh_ind 🔴\n",
      "DeepFace (retinaface) error\n",
      "DeepFace (mtcnn) error\n",
      "DeepFace (yolov8) error\n",
      "\n",
      "🔴 kapiva_official 🔴\n",
      "DeepFace (retinaface) error\n",
      "DeepFace (mtcnn) error\n",
      "DeepFace (yolov8) error\n",
      "\n",
      "🔴 mcaffeineofficial 🔴\n",
      "DeepFace (retinaface) error\n",
      "DeepFace (mtcnn) error\n",
      "DeepFace (yolov8) error\n",
      "\n",
      "🔴 perforaofficial 🔴\n",
      "DeepFace (retinaface) error\n",
      "DeepFace (mtcnn) error\n",
      "DeepFace (yolov8) error\n",
      "\n",
      "🔴 sephora_india 🔴\n",
      "DeepFace (retinaface) error\n",
      "DeepFace (mtcnn) error\n",
      "DeepFace (yolov8) error\n",
      "\n",
      "🔴 recodeeverydaymakeup 🔴\n",
      "DeepFace (retinaface) error\n",
      "DeepFace (mtcnn) error\n",
      "DeepFace (yolov8) error\n",
      "\n",
      "🔴 officialswissbeauty 🔴\n",
      "DeepFace (retinaface) error\n",
      "DeepFace (mtcnn) error\n",
      "DeepFace (yolov8) error\n",
      "\n",
      "🔴 mycosiq 🔴\n",
      "DeepFace (retinaface) error\n",
      "DeepFace (mtcnn) error\n",
      "DeepFace (yolov8) error\n",
      "\n",
      "🔴 suganda.co 🔴\n",
      "DeepFace (retinaface) error\n",
      "DeepFace (mtcnn) error\n",
      "DeepFace (yolov8) error\n",
      "\n",
      "🔴 myskinq 🔴\n",
      "DeepFace (retinaface) error\n",
      "DeepFace (mtcnn) error\n",
      "DeepFace (yolov8) error\n",
      "\n",
      "🔴 auliglow 🔴\n",
      "DeepFace (retinaface) error\n",
      "DeepFace (mtcnn) error\n",
      "DeepFace (yolov8) error\n",
      "\n",
      "🔴 theformularx 🔴\n",
      "DeepFace (retinaface) error\n",
      "DeepFace (mtcnn) error\n",
      "DeepFace (yolov8) error\n",
      "\n",
      "🔴 himairag 🔴\n",
      "DeepFace (retinaface) error\n",
      "DeepFace (mtcnn) error\n",
      "DeepFace (yolov8) error\n",
      "\n",
      "🔴 dermabayskincare 🔴\n",
      "DeepFace (retinaface) error\n",
      "DeepFace (mtcnn) error\n",
      "DeepFace (yolov8) error\n",
      "\n",
      "🔴 beardo.official 🔴\n",
      "DeepFace (retinaface) error\n",
      "DeepFace (mtcnn) error\n"
     ]
    },
    {
     "name": "stderr",
     "output_type": "stream",
     "text": [
      "Action: race: 100%|██████████| 4/4 [00:00<00:00,  6.90it/s]   \n"
     ]
    },
    {
     "name": "stdout",
     "output_type": "stream",
     "text": [
      "\n",
      "🔴 themancompany 🔴\n",
      "DeepFace (retinaface) error\n",
      "DeepFace (mtcnn) error\n",
      "DeepFace (yolov8) error\n",
      "\n",
      "🔴 reginaldmen.grooming 🔴\n",
      "DeepFace (retinaface) error\n",
      "DeepFace (mtcnn) error\n",
      "DeepFace (yolov8) error\n",
      "\n",
      "🔴 bombayshavingcompany 🔴\n",
      "DeepFace (retinaface) error\n",
      "DeepFace (mtcnn) error\n",
      "DeepFace (yolov8) error\n",
      "\n",
      "🔴 mybombae__ 🔴\n",
      "DeepFace (retinaface) error\n",
      "DeepFace (mtcnn) error\n",
      "DeepFace (yolov8) error\n",
      "\n",
      "🔴 yaanman.official 🔴\n",
      "DeepFace (retinaface) error\n",
      "DeepFace (mtcnn) error\n",
      "DeepFace (yolov8) error\n",
      "\n",
      "🔴 allman.in 🔴\n",
      "DeepFace (retinaface) error\n",
      "DeepFace (mtcnn) error\n",
      "DeepFace (yolov8) error\n",
      "\n",
      "🔴 dollarshaveclub 🔴\n",
      "DeepFace (retinaface) error\n",
      "DeepFace (mtcnn) error\n",
      "DeepFace (yolov8) error\n",
      "\n",
      "🔴 oldspice 🔴\n",
      "DeepFace (retinaface) error\n",
      "DeepFace (mtcnn) error\n",
      "DeepFace (yolov8) error\n",
      "\n",
      "🔴 oldspiceindia 🔴\n",
      "DeepFace (retinaface) error\n",
      "DeepFace (mtcnn) error\n",
      "DeepFace (yolov8) error\n",
      "\n",
      "🔴 oldspicehair 🔴\n",
      "DeepFace (retinaface) error\n",
      "DeepFace (mtcnn) error\n",
      "DeepFace (yolov8) error\n",
      "\n",
      "🔴 oldspiceuk 🔴\n",
      "DeepFace (retinaface) error\n",
      "DeepFace (mtcnn) error\n",
      "DeepFace (yolov8) error\n",
      "\n",
      "🔴 foxtaleskin 🔴\n",
      "DeepFace (retinaface) error\n",
      "DeepFace (mtcnn) error\n",
      "DeepFace (yolov8) error\n",
      "\n",
      "🔴 ohsogaga 🔴\n",
      "DeepFace (retinaface) error\n",
      "DeepFace (mtcnn) error\n",
      "DeepFace (yolov8) error\n",
      "\n",
      "🔴 riseformen 🔴\n",
      "DeepFace (retinaface) error\n",
      "DeepFace (mtcnn) error\n",
      "DeepFace (yolov8) error\n",
      "\n",
      "🔴 dotandkey.skincare 🔴\n",
      "DeepFace (retinaface) error\n",
      "DeepFace (mtcnn) error\n",
      "DeepFace (yolov8) error\n",
      "\n",
      "🔴 gush.beauty 🔴\n",
      "DeepFace (retinaface) error\n",
      "DeepFace (mtcnn) error\n",
      "DeepFace (yolov8) error\n",
      "\n",
      "🔴 try.moody 🔴\n",
      "DeepFace (retinaface) error\n",
      "DeepFace (mtcnn) error\n",
      "DeepFace (yolov8) error\n",
      "\n",
      "🔴 moxiebeautyofficial 🔴\n",
      "DeepFace (retinaface) error\n",
      "DeepFace (mtcnn) error\n",
      "DeepFace (yolov8) error\n",
      "\n",
      "🔴 poshanskincare 🔴\n",
      "DeepFace (retinaface) error\n",
      "DeepFace (mtcnn) error\n",
      "DeepFace (yolov8) error\n",
      "\n",
      "🔴 offduty.india 🔴\n",
      "DeepFace (retinaface) error\n",
      "DeepFace (mtcnn) error\n",
      "DeepFace (yolov8) error\n",
      "\n",
      "🔴 emprallofficial 🔴\n",
      "DeepFace (retinaface) error\n",
      "DeepFace (mtcnn) error\n",
      "DeepFace (yolov8) error\n",
      "\n",
      "🔴 littlebox.india 🔴\n",
      "DeepFace (retinaface) error\n",
      "DeepFace (mtcnn) error\n",
      "DeepFace (yolov8) error\n",
      "\n",
      "🔴 tokyo_talkies 🔴\n",
      "DeepFace (retinaface) error\n",
      "DeepFace (mtcnn) error\n",
      "DeepFace (yolov8) error\n",
      "\n",
      "🔴 freakinsindia 🔴\n",
      "DeepFace (retinaface) error\n",
      "DeepFace (mtcnn) error\n",
      "DeepFace (yolov8) error\n",
      "\n",
      "🔴 newme.asia 🔴\n",
      "DeepFace (retinaface) error\n",
      "DeepFace (mtcnn) error\n",
      "DeepFace (yolov8) error\n",
      "\n",
      "🔴 uptownie101 🔴\n",
      "DeepFace (retinaface) error\n",
      "DeepFace (mtcnn) error\n",
      "DeepFace (yolov8) error\n",
      "\n",
      "🔴 crayy.heads 🔴\n",
      "DeepFace (retinaface) error\n",
      "DeepFace (mtcnn) error\n",
      "DeepFace (yolov8) error\n",
      "\n",
      "🔴 bonkers.corner 🔴\n",
      "DeepFace (retinaface) error\n",
      "DeepFace (mtcnn) error\n",
      "DeepFace (yolov8) error\n",
      "\n",
      "🔴 streetstylestoreofficial 🔴\n",
      "DeepFace (retinaface) error\n",
      "DeepFace (mtcnn) error\n",
      "DeepFace (yolov8) error\n",
      "\n",
      "🔴 maincharacter_india 🔴\n",
      "DeepFace (retinaface) error\n",
      "DeepFace (mtcnn) error\n",
      "DeepFace (yolov8) error\n",
      "\n",
      "🔴 manyavar 🔴\n",
      "DeepFace (retinaface) error\n",
      "DeepFace (mtcnn) error\n",
      "DeepFace (yolov8) error\n",
      "\n",
      "🔴 izfworld 🔴\n",
      "DeepFace (retinaface) error\n",
      "DeepFace (mtcnn) error\n",
      "DeepFace (yolov8) error\n",
      "\n",
      "🔴 virgio.official 🔴\n",
      "DeepFace (retinaface) error\n",
      "DeepFace (mtcnn) error\n",
      "DeepFace (yolov8) error\n",
      "\n",
      "🔴 staywrogn 🔴\n",
      "DeepFace (retinaface) error\n",
      "DeepFace (mtcnn) error\n",
      "DeepFace (yolov8) error\n",
      "\n",
      "🔴 theindiangarageco_ 🔴\n",
      "DeepFace (retinaface) error\n",
      "DeepFace (mtcnn) error\n",
      "DeepFace (yolov8) error\n",
      "\n",
      "🔴 ajiolife 🔴\n",
      "DeepFace (retinaface) error\n",
      "DeepFace (mtcnn) error\n",
      "DeepFace (yolov8) error\n",
      "\n",
      "🔴 fabindiaofficial 🔴\n",
      "DeepFace (retinaface) error\n",
      "DeepFace (mtcnn) error\n",
      "DeepFace (yolov8) error\n",
      "\n",
      "🔴 bibaindia 🔴\n",
      "DeepFace (retinaface) error\n",
      "DeepFace (mtcnn) error\n",
      "DeepFace (yolov8) error\n",
      "\n",
      "🔴 allensollyindia 🔴\n",
      "DeepFace (retinaface) error\n",
      "DeepFace (mtcnn) error\n",
      "DeepFace (yolov8) error\n",
      "\n",
      "🔴 wforwoman 🔴\n",
      "DeepFace (retinaface) error\n",
      "DeepFace (mtcnn) error\n",
      "DeepFace (yolov8) error\n",
      "\n",
      "🔴 raymond_the_complete_man 🔴\n",
      "DeepFace (retinaface) error\n",
      "DeepFace (mtcnn) error\n",
      "DeepFace (yolov8) error\n",
      "\n",
      "🔴 spykarofficial 🔴\n",
      "DeepFace (retinaface) error\n",
      "DeepFace (mtcnn) error\n",
      "DeepFace (yolov8) error\n",
      "\n",
      "🔴 siyaramsindia 🔴\n",
      "DeepFace (retinaface) error\n",
      "DeepFace (mtcnn) error\n",
      "DeepFace (yolov8) error\n",
      "\n",
      "🔴 kalkifashion 🔴\n",
      "DeepFace (retinaface) error\n",
      "DeepFace (mtcnn) error\n",
      "DeepFace (yolov8) error\n",
      "\n",
      "🔴 bunaai 🔴\n"
     ]
    },
    {
     "name": "stderr",
     "output_type": "stream",
     "text": [
      "2025-07-26 20:50:44.360568: I tensorflow/core/framework/local_rendezvous.cc:407] Local rendezvous is aborting with status: INVALID_ARGUMENT: Must provide as many biases as the last dimension of the input tensor: [28] vs. [0,24,24,3]\n"
     ]
    },
    {
     "name": "stdout",
     "output_type": "stream",
     "text": [
      "DeepFace (retinaface) error\n",
      "DeepFace (mtcnn) error\n",
      "DeepFace (yolov8) error\n",
      "\n",
      "🔴 libasindia 🔴\n",
      "DeepFace (retinaface) error\n",
      "DeepFace (mtcnn) error\n",
      "DeepFace (yolov8) error\n",
      "\n",
      "🔴 shopmulmul 🔴\n",
      "DeepFace (retinaface) error\n",
      "DeepFace (mtcnn) error\n",
      "DeepFace (yolov8) error\n",
      "\n",
      "🔴 houseofmasaba 🔴\n",
      "DeepFace (retinaface) error\n",
      "DeepFace (mtcnn) error\n",
      "DeepFace (yolov8) error\n",
      "\n",
      "🔴 midsummer.india 🔴\n",
      "DeepFace (retinaface) error\n",
      "DeepFace (mtcnn) error\n",
      "DeepFace (yolov8) error\n",
      "\n",
      "🔴 endlessummer.shop 🔴\n",
      "DeepFace (retinaface) error\n",
      "DeepFace (mtcnn) error\n",
      "DeepFace (yolov8) error\n",
      "\n",
      "🔴 shopaamili 🔴\n",
      "DeepFace (retinaface) error\n",
      "DeepFace (mtcnn) error\n",
      "DeepFace (yolov8) error\n",
      "\n",
      "🔴 layrrd 🔴\n",
      "DeepFace (retinaface) error\n",
      "DeepFace (mtcnn) error\n",
      "DeepFace (yolov8) error\n",
      "\n",
      "🔴 kicaactive 🔴\n",
      "DeepFace (retinaface) error\n",
      "DeepFace (mtcnn) error\n",
      "DeepFace (yolov8) error\n",
      "\n",
      "🔴 fuaarkofficial 🔴\n",
      "DeepFace (retinaface) error\n",
      "DeepFace (mtcnn) error\n",
      "DeepFace (yolov8) error\n",
      "\n",
      "🔴 zymratwear 🔴\n",
      "DeepFace (retinaface) error\n",
      "DeepFace (mtcnn) error\n",
      "DeepFace (yolov8) error\n",
      "\n",
      "🔴 ovrtrn 🔴\n",
      "DeepFace (retinaface) error\n",
      "DeepFace (mtcnn) error\n",
      "DeepFace (yolov8) error\n",
      "\n",
      "🔴 birdeye.india 🔴\n",
      "DeepFace (retinaface) error\n",
      "DeepFace (mtcnn) error\n",
      "DeepFace (yolov8) error\n",
      "\n",
      "🔴 hrxbrand 🔴\n",
      "DeepFace (retinaface) error\n",
      "DeepFace (mtcnn) error\n",
      "DeepFace (yolov8) error\n",
      "\n",
      "🔴 chapter2drip 🔴\n",
      "DeepFace (retinaface) error\n",
      "DeepFace (mtcnn) error\n",
      "DeepFace (yolov8) error\n"
     ]
    }
   ],
   "source": [
    "import os\n",
    "import cv2\n",
    "import torch\n",
    "import json\n",
    "from deepface import DeepFace\n",
    "from face_detection import build_detector\n",
    "\n",
    "DATA_ROOT = \"/home/yash-sisodia/face-detection/collaborators\"\n",
    "\n",
    "creator_handles = [\n",
    "    \"_.dracarys.x_\",\n",
    "    \"_.harshitha_.gowda._\",\n",
    "    \"_.heartwants._\",\n",
    "    \"_.hett\",\n",
    "    \"_.keshavi._\",\n",
    "    \"_.kirranchauhan._\",\n",
    "    \"_.life_in_pastel._\",\n",
    "    \"_.manisha_kulal\",\n",
    "    \"_.mile.y\",\n",
    "    \"_.minney__06\",\n",
    "    \"_.miss_komal_.1026\",\n",
    "    \"_.nickyy75_\",\n",
    "    \"_.nutrihealth\",\n",
    "    \"_.palakvasudeva._\",\n",
    "    \"_.phenomenail\",\n",
    "    \"_.poojjja._\",\n",
    "    \"_.priyanshiii01\",\n",
    "    \"_.ranideepa._\",\n",
    "    \"_.samridhii_\",\n",
    "    \"_.shikhachaudhary._\",\n",
    "    \"_.shobhomita\",\n",
    "    \"_.shrush_\",\n",
    "    \"_.srilakshmi.__\",\n",
    "    \"_.sudeshnax.__\",\n",
    "    \"_.tanisha._.22._\",\n",
    "    \"_.vandana._03\",\n",
    "    \"_3.4ooo\",\n",
    "    \"__.aaddyyyyyyyy\",\n",
    "    \"__.aishi_\",\n",
    "    \"__.ambiverttt\",\n",
    "    \"__.anuraaag\",\n",
    "    \"__.mitara.b.__\",\n",
    "    \"__.prachi.__26\",\n",
    "    \"__.sannss\",\n",
    "    \"__.shammu_zz\",\n",
    "    \"__.soulzy\",\n",
    "    \"__.tashaa.__\",\n",
    "    \"___.ishpreet\",\n",
    "    \"____.jagriti.___\",\n",
    "    \"______jasmine1_______\",\n",
    "    \"_____keppy_____\",\n",
    "    \"_____tequila_girl\",\n",
    "    \"____sanjana___boro____\",\n",
    "    \"____vartikaa___\",\n",
    "    \"___aamu___05\",\n",
    "    \"___antara__ghosh___\",\n",
    "    \"___chinmoy_bora\",\n",
    "    \"___dhanu07___\",\n",
    "    \"___dubey___ji___\",\n",
    "    \"___jasmine_05\",\n",
    "    \"___jelly_bean___\",\n",
    "    \"___kamakshiiiiii\",\n",
    "    \"___malemnganbiii___\",\n",
    "    \"___maxumilian___\",\n",
    "    \"___mikku___\",\n",
    "    \"___nikhat____\",\n",
    "    \"___notyourcupoftea___\",\n",
    "    \"___riyuhhh___\",\n",
    "    \"___sadah____\",\n",
    "    \"___simran__official___\",\n",
    "    \"___srn_9779_\",\n",
    "    \"___tannu20\",\n",
    "    \"___tripathi__\",\n",
    "    \"___twinkling___\",\n",
    "    \"___whatarethose\",\n",
    "    \"__akshitagupta\",\n",
    "    \"__ankitaa._____\",\n",
    "    \"__apurvapawar_\",\n",
    "    \"__ar_yaaa__\",\n",
    "    \"__barbie_grl\",\n",
    "    \"__baruah__96\",\n",
    "    \"__beauty__squad__\",\n",
    "    \"__bellabeautyy\",\n",
    "    \"__bhumi_thakur___\",\n",
    "    \"__bint.abdullah__\",\n",
    "    \"__brownie_love__\",\n",
    "    \"__chachiii_\",\n",
    "    \"__chikka\",\n",
    "    \"__clematiss__\",\n",
    "    \"__darshan____0024\",\n",
    "    \"__devlina__\",\n",
    "    \"__dr__.aastha___.yadav\",\n",
    "    \"__embxx\",\n",
    "    \"__estrellaaaa.__\",\n",
    "    \"__hussainujjain\",\n",
    "    \"__iamleeba._\",\n",
    "    \"__ishannnnn._\",\n",
    "    \"__ishikasachdeva__\",\n",
    "    \"__ishsh__\",\n",
    "    \"__jenny_pereira__\",\n",
    "    \"__jess_mavalia__\",\n",
    "    \"__jessferns__43\",\n",
    "    \"__kajal.bisht__\",\n",
    "    \"__kalitapriyamr__\",\n",
    "    \"__kaur___simran\",\n",
    "    \"__khushiiiii__3\",\n",
    "    \"__kripali\",\n",
    "    \"__lil.jannat\",\n",
    "    \"__lucy.2.0__\",\n",
    "    \"__ma.dh.u___\"\n",
    "]\n",
    "\n",
    "brand_handles = [\n",
    "    \"mynykaa\",\n",
    "    \"nykaanaturals\",\n",
    "    \"nykaaskinrx\",\n",
    "    \"nykaacosmetics\",\n",
    "    \"wowskinscienceindia\",\n",
    "    \"mamaearth.in\",\n",
    "    \"letspurplle\",\n",
    "    \"asabeautyindia\",\n",
    "    \"trysugar\",\n",
    "    \"nathabit.in\",\n",
    "    \"discover.pilgrim\",\n",
    "    \"vlccin\",\n",
    "    \"forestessentials\",\n",
    "    \"faebeautyofficial\",\n",
    "    \"thebodyshopindia\",\n",
    "    \"lovecolorbar\",\n",
    "    \"biotique_world\",\n",
    "    \"maccosmeticsindia\",\n",
    "    \"revlon_india\",\n",
    "    \"bobbibrownindia\",\n",
    "    \"himalaya_facecare\",\n",
    "    \"plumgoodness\",\n",
    "    \"plumbodylovin\",\n",
    "    \"disguisecosmetics\",\n",
    "    \"myglamm\",\n",
    "    \"coloressenceofficial\",\n",
    "    \"rubys.organics\",\n",
    "    \"elle18_india\",\n",
    "    \"livon\",\n",
    "    \"herbalessencesindia\",\n",
    "    \"thebeautycoindia\",\n",
    "    \"loverecode\",\n",
    "    \"facescanada\",\n",
    "    \"clinique_in\",\n",
    "    \"suroskiebeauty\",\n",
    "    \"paccosmetic\",\n",
    "    \"litcosmeticsindia\",\n",
    "    \"beauty_secret_highend_makeup\",\n",
    "    \"biodermaindia\",\n",
    "    \"mymakeupstory_india\",\n",
    "    \"londonprimeindia\",\n",
    "    \"charactercosmeticsindia\",\n",
    "    \"forever52india\",\n",
    "    \"keautybeauty.in\",\n",
    "    \"shopaarel\",\n",
    "    \"justgoldindia\",\n",
    "    \"lashupindia\",\n",
    "    \"saturnhealth.ghc\",\n",
    "    \"skinkraftshop\",\n",
    "    \"marshealth.ghc\",\n",
    "    \"beromtnails\",\n",
    "    \"blissible_cosmetics\",\n",
    "    \"prishebeauty\",\n",
    "    \"kindedbeauty\",\n",
    "    \"abelia.cares\",\n",
    "    \"farmbeautyofficial\",\n",
    "    \"ellement.company\",\n",
    "    \"skinpassword.in\",\n",
    "    \"kaybykatrina\",\n",
    "    \"82e.official\",\n",
    "    \"arata.in\",\n",
    "    \"herbyangelofficial\",\n",
    "    \"nutriglowcosmetics\",\n",
    "    \"oh_ind\",\n",
    "    \"kapiva_official\",\n",
    "    \"mcaffeineofficial\",\n",
    "    \"perforaofficial\",\n",
    "    \"sephora_india\",\n",
    "    \"recodeeverydaymakeup\",\n",
    "    \"officialswissbeauty\",\n",
    "    \"mycosiq\",\n",
    "    \"suganda.co\",\n",
    "    \"myskinq\",\n",
    "    \"auliglow\",\n",
    "    \"theformularx\",\n",
    "    \"himairag\",\n",
    "    \"dermabayskincare\",\n",
    "    \"beardo.official\",\n",
    "    \"themancompany\",\n",
    "    \"reginaldmen.grooming\",\n",
    "    \"bombayshavingcompany\",\n",
    "    \"mybombae__\",\n",
    "    \"yaanman.official\",\n",
    "    \"allman.in\",\n",
    "    \"dollarshaveclub\",\n",
    "    \"oldspice\",\n",
    "    \"oldspiceindia\",\n",
    "    \"oldspicehair\",\n",
    "    \"oldspiceuk\",\n",
    "    \"foxtaleskin\",\n",
    "    \"ohsogaga\",\n",
    "    \"riseformen\",\n",
    "    \"dotandkey.skincare\",\n",
    "    \"gush.beauty\",\n",
    "    \"try.moody\",\n",
    "    \"moxiebeautyofficial\",\n",
    "    \"poshanskincare\",\n",
    "    \"offduty.india\",\n",
    "    \"emprallofficial\",\n",
    "    \"littlebox.india\",\n",
    "    \"tokyo_talkies\",\n",
    "    \"freakinsindia\",\n",
    "    \"newme.asia\",\n",
    "    \"uptownie101\",\n",
    "    \"crayy.heads\",\n",
    "    \"bonkers.corner\",\n",
    "    \"streetstylestoreofficial\",\n",
    "    \"maincharacter_india\",\n",
    "    \"manyavar\",\n",
    "    \"izfworld\",\n",
    "    \"virgio.official\",\n",
    "    \"staywrogn\",\n",
    "    \"theindiangarageco_\",\n",
    "    \"ajiolife\",\n",
    "    \"fabindiaofficial\",\n",
    "    \"bibaindia\",\n",
    "    \"allensollyindia\",\n",
    "    \"wforwoman\",\n",
    "    \"raymond_the_complete_man\",\n",
    "    \"spykarofficial\",\n",
    "    \"siyaramsindia\",\n",
    "    \"kalkifashion\",\n",
    "    \"bunaai\",\n",
    "    \"libasindia\",\n",
    "    \"shopmulmul\",\n",
    "    \"houseofmasaba\",\n",
    "    \"midsummer.india\",\n",
    "    \"endlessummer.shop\",\n",
    "    \"shopaamili\",\n",
    "    \"layrrd\",\n",
    "    \"kicaactive\",\n",
    "    \"fuaarkofficial\",\n",
    "    \"zymratwear\",\n",
    "    \"ovrtrn\",\n",
    "    \"birdeye.india\",\n",
    "    \"hrxbrand\",\n",
    "    \"chapter2drip\"\n",
    "]\n",
    "\n",
    "all_handles = creator_handles + brand_handles\n",
    "\n",
    "dsfd_detector = build_detector(\n",
    "    \"DSFDDetector\",\n",
    "    confidence_threshold=0.4,\n",
    "    nms_iou_threshold=0.3,\n",
    "    device=torch.device(\"cpu\")\n",
    ")\n",
    "\n",
    "def detect_with_dsfd(image_path):\n",
    "    try:\n",
    "        img = cv2.imread(image_path)\n",
    "        bboxes = dsfd_detector.detect(img)\n",
    "        return len(bboxes)\n",
    "    except:\n",
    "        print(f\"DSFD error\")\n",
    "        return 0\n",
    "\n",
    "def detect_with_deepface(image_path, backend):\n",
    "    try:\n",
    "        result = DeepFace.analyze(\n",
    "            img_path=image_path,\n",
    "            actions=[\"age\", \"gender\", \"emotion\", \"race\"],\n",
    "            detector_backend=backend,\n",
    "            enforce_detection=True\n",
    "        )\n",
    "        return len(result) if isinstance(result, list) else 1\n",
    "    except:\n",
    "        print(f\"DeepFace ({backend}) error\")\n",
    "        return 0\n",
    "\n",
    "deepface_backends = [\"retinaface\", \"mtcnn\", \"yolov8\"]\n",
    "results = []\n",
    "\n",
    "for handle in all_handles:\n",
    "    print(f\"\\n🔴 {handle} 🔴\")\n",
    "    img_path = os.path.join(DATA_ROOT, handle, \"profile.jpg\")\n",
    "\n",
    "    if not os.path.exists(img_path):\n",
    "        print(\"Image not found.\")\n",
    "        continue\n",
    "\n",
    "    result_entry = {\"handle\": handle, \"dsfd\": 0}\n",
    "\n",
    "    dsfd_faces = detect_with_dsfd(img_path)\n",
    "    result_entry[\"dsfd\"] = dsfd_faces\n",
    "\n",
    "    for backend in deepface_backends:\n",
    "        faces = detect_with_deepface(img_path, backend=backend)\n",
    "        result_entry[backend] = faces\n",
    "\n",
    "    results.append(result_entry)\n",
    "\n",
    "output_path = \"/home/yash-sisodia/face-detection/detection_results.json\"\n",
    "with open(output_path, \"w\") as f:\n",
    "    json.dump(results, f, indent=2)"
   ]
  }
 ],
 "metadata": {
  "kernelspec": {
   "display_name": "venv",
   "language": "python",
   "name": "python3"
  },
  "language_info": {
   "codemirror_mode": {
    "name": "ipython",
    "version": 3
   },
   "file_extension": ".py",
   "mimetype": "text/x-python",
   "name": "python",
   "nbconvert_exporter": "python",
   "pygments_lexer": "ipython3",
   "version": "3.12.3"
  }
 },
 "nbformat": 4,
 "nbformat_minor": 5
}
